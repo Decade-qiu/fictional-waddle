{
 "cells": [
  {
   "cell_type": "code",
   "execution_count": 5,
   "metadata": {},
   "outputs": [
    {
     "name": "stdout",
     "output_type": "stream",
     "text": [
      "{'Server': 'nginx', 'Date': 'Tue, 06 Aug 2024 06:52:19 GMT', 'Content-Type': 'text/html; charset=utf-8', 'Transfer-Encoding': 'chunked', 'Connection': 'keep-alive', 'Vary': 'Accept-Encoding', 'Set-Cookie': 'ABTEST=7|1722927139|v17; expires=Thu, 05-Sep-24 06:52:19 GMT; path=/, SNUID=1F854F6B1B1A02E2273D762C1C518767; expires=Wed, 06-Aug-25 06:52:19 GMT; domain=.sogou.com; path=/, IPLOC=CN3210; expires=Wed, 06-Aug-25 06:52:19 GMT; domain=.sogou.com; path=/, SUID=039E54709CA6A20B0000000066B1C823; expires=Mon, 01-Aug-2044 06:52:19 GMT; domain=.sogou.com; path=/, cuid=AAEfuxPdTQAAAAuipfXe5AAAMQQ=; path=/; expires=Fri, 06 Aug 2027 06:52:19 GMT; domain=.sogou.com', 'P3P': 'CP=\"CURa ADMa DEVa PSAo PSDo OUR BUS UNI PUR INT DEM STA PRE COM NAV OTC NOI DSP COR\", CP=\"CURa ADMa DEVa PSAo PSDo OUR BUS UNI PUR INT DEM STA PRE COM NAV OTC NOI DSP COR\", CP=\"CURa ADMa DEVa PSAo PSDo OUR BUS UNI PUR INT DEM STA PRE COM NAV OTC NOI DSP COR\"', 'Pragma': 'No-cache', 'Cache-Control': 'max-age=0', 'Expires': 'Tue, 06 Aug 2024 06:52:19 GMT', 'UUID': '6a277484-7931-49e8-9517-2e424a15c61c', 'Content-Encoding': 'gzip'}\n",
      "hello.html 保存成功！！！\n"
     ]
    }
   ],
   "source": [
    "#!/usr/bin/env python\n",
    "# -*- coding:utf-8 -*-\n",
    "\n",
    "# 搜狗\n",
    "\n",
    "# UA：User-Agent（请求载体的身份标识）\n",
    "# UA检测：门户网站的服务器会检测对应请求的载体身份标识，如果检测到请求的载体身份标识为某一款浏览器，\n",
    "# 说明该请求是一个正常的请求。但是，如果检测到请求的载体身份标识不是基于某一款浏览器的，则表示该请求\n",
    "# 为不正常的请求（爬虫），则服务器端就很有可能拒绝该次请求。\n",
    "\n",
    "# UA伪装：让爬虫对应的请求载体身份标识伪装成某一款浏览器\n",
    "import requests\n",
    "if __name__ == \"__main__\":\n",
    "    # UA伪装：将对应的User-Agent封装到一个字典中\n",
    "    headers = {\n",
    "        'User-Agent': 'Mozilla/5.0 (Macintosh; Intel Mac OS X 10_12_0) AppleWebKit/537.36 (KHTML, like Gecko) Chrome/72.0.3626.121 Safari/537.36'\n",
    "    }\n",
    "    url = 'https://www.sogou.com/web'\n",
    "    # 处理url携带的参数：封装到字典中\n",
    "    # kw = input('enter a word:')\n",
    "    kw = \"hello\"\n",
    "    param = {\n",
    "        'query': kw\n",
    "    }\n",
    "    # 对指定的url发起的请求对应的url是携带参数的，并且请求过程中处理了参数\n",
    "    response = requests.get(url=url, params=param, headers=headers)\n",
    "    print(response.headers)\n",
    "    page_text = response.text\n",
    "    fileName = kw+'.html'\n",
    "    with open(fileName, 'w', encoding='utf-8') as fp:\n",
    "        fp.write(page_text)\n",
    "    print(fileName, '保存成功！！！')"
   ]
  },
  {
   "cell_type": "code",
   "execution_count": 20,
   "metadata": {},
   "outputs": [
    {
     "name": "stdout",
     "output_type": "stream",
     "text": [
      "<class 'dict'> {'errno': 0, 'data': [{'k': 'decade', 'v': 'n. 十年，十年间; 十个一组; 十年期'}, {'k': 'decades', 'v': 'n. 十年，十年间( decade的名词复数 )'}, {'k': 'decadent', 'v': 'adj. 堕落的，颓废的; 文艺颓废期的，颓废派的; 衰微的 n. 颓废派艺术家（文人）; 堕落者'}, {'k': 'decadence', 'v': 'n. 衰落，堕落，颓废'}, {'k': 'decadency', 'v': 'n. 衰微，堕落'}], 'logid': 664826102}\n",
      "{\"errno\":0,\"data\":[{\"k\":\"decade\",\"v\":\"n. \\u5341\\u5e74\\uff0c\\u5341\\u5e74\\u95f4; \\u5341\\u4e2a\\u4e00\\u7ec4; \\u5341\\u5e74\\u671f\"},{\"k\":\"decades\",\"v\":\"n. \\u5341\\u5e74\\uff0c\\u5341\\u5e74\\u95f4( decade\\u7684\\u540d\\u8bcd\\u590d\\u6570 )\"},{\"k\":\"decadent\",\"v\":\"adj. \\u5815\\u843d\\u7684\\uff0c\\u9893\\u5e9f\\u7684; \\u6587\\u827a\\u9893\\u5e9f\\u671f\\u7684\\uff0c\\u9893\\u5e9f\\u6d3e\\u7684; \\u8870\\u5fae\\u7684 n. \\u9893\\u5e9f\\u6d3e\\u827a\\u672f\\u5bb6\\uff08\\u6587\\u4eba\\uff09; \\u5815\\u843d\\u8005\"},{\"k\":\"decadence\",\"v\":\"n. \\u8870\\u843d\\uff0c\\u5815\\u843d\\uff0c\\u9893\\u5e9f\"},{\"k\":\"decadency\",\"v\":\"n. \\u8870\\u5fae\\uff0c\\u5815\\u843d\"}],\"logid\":664826102}\n",
      "over!!!\n"
     ]
    }
   ],
   "source": [
    "import requests\n",
    "import json\n",
    "\n",
    "# 百度翻译\n",
    "\n",
    "# 1.指定url\n",
    "post_url = 'https://fanyi.baidu.com/sug'\n",
    "# 2.进行UA伪装\n",
    "headers = {\n",
    "    'User-Agent': 'Mozilla/5.0 (Windows NT 10.0; Win64; x64) AppleWebKit/537.36 (KHTML, like Gecko) Chrome/102.0.0.0 Safari/537.36'\n",
    "}\n",
    "# 3.post请求参数处理（同get请求一致）\n",
    "# word = input('enter a word:')\n",
    "word = \"decade\"\n",
    "data = {\n",
    "    'kw': word\n",
    "}\n",
    "# 4.请求发送\n",
    "response = requests.post(url=post_url, data=data, headers=headers)\n",
    "dic_obj = response.json()\n",
    "print(type(dic_obj), dic_obj)\n",
    "print(response.text)\n",
    "\n",
    "# 持久化存储\n",
    "fileName = word+'.json'\n",
    "fp = open(fileName, 'w', encoding='utf-8')\n",
    "json.dump(dic_obj, fp=fp, ensure_ascii=False)\n",
    "fp.close()\n",
    "print('over!!!')"
   ]
  },
  {
   "cell_type": "code",
   "execution_count": 1,
   "metadata": {},
   "outputs": [
    {
     "name": "stdout",
     "output_type": "stream",
     "text": [
      "over!!!\n"
     ]
    }
   ],
   "source": [
    "#!/usr/bin/env python\n",
    "# -*- coding:utf-8 -*-\n",
    "\n",
    "# 豆瓣\n",
    "\n",
    "import requests\n",
    "import json\n",
    "url = \"https://movie.douban.com/j/chart/top_list\"\n",
    "param = {\n",
    "    \"type\": \"24\",\n",
    "    \"interval_id\": \"100:90\",\n",
    "    \"action\": \"\",\n",
    "    \"start\": \"0\",  # 从库中的第几部电影去取\n",
    "    \"limit\": \"20\",  # 一次取出的个数\n",
    "}\n",
    "headers = {\n",
    "    \"User-Agent\": \"Mozilla/5.0 (Macintosh; Intel Mac OS X 10_12_0) AppleWebKit/537.36 (KHTML, like Gecko) Chrome/72.0.3626.121 Safari/537.36\"\n",
    "}\n",
    "response = requests.get(url=url, params=param, headers=headers)\n",
    "\n",
    "list_data = response.json()\n",
    "\n",
    "fp = open(\"./douban.json\", \"w\", encoding=\"utf-8\")\n",
    "json.dump(list_data, fp=fp, ensure_ascii=False)\n",
    "fp.close()\n",
    "print(\"over!!!\")"
   ]
  },
  {
   "cell_type": "code",
   "execution_count": 53,
   "metadata": {},
   "outputs": [
    {
     "name": "stdout",
     "output_type": "stream",
     "text": [
      "over!!!\n"
     ]
    }
   ],
   "source": [
    "#!/usr/bin/env python\n",
    "# -*- coding:utf-8 -*-\n",
    "\n",
    "# KFC\n",
    "\n",
    "import requests\n",
    "import json\n",
    "url = \"http://www.kfc.com.cn/kfccda/ashx/GetStoreList.ashx?op=keyword\"\n",
    "city = \"北京\"\n",
    "keyword = \"南站\"\n",
    "data = {\n",
    "    \"cname\": city,\n",
    "    \"keyword\": keyword,\n",
    "    \"pid\": \"\",\n",
    "    \"pageIndex\": \"1\",\n",
    "    \"pageSize\": \"100\",\n",
    "}\n",
    "headers = {\n",
    "    \"User-Agent\": \"Mozilla/5.0 (Windows NT 10.0; Win64; x64) AppleWebKit/537.36 (KHTML, like Gecko) Chrome/102.0.0.0 Safari/537.36\",\n",
    "}\n",
    "response = requests.post(url=url, data=data, headers=headers)\n",
    "data = json.loads(response.content)\n",
    "\n",
    "fp = open(\"./douban.json\", \"w\", encoding=\"utf-8\")\n",
    "json.dump(data, fp=fp, ensure_ascii=False)\n",
    "fp.close()\n",
    "print(\"over!!!\")"
   ]
  }
 ],
 "metadata": {
  "kernelspec": {
   "display_name": "Python 3",
   "language": "python",
   "name": "python3"
  },
  "language_info": {
   "codemirror_mode": {
    "name": "ipython",
    "version": 3
   },
   "file_extension": ".py",
   "mimetype": "text/x-python",
   "name": "python",
   "nbconvert_exporter": "python",
   "pygments_lexer": "ipython3",
   "version": "3.9.13"
  }
 },
 "nbformat": 4,
 "nbformat_minor": 2
}
