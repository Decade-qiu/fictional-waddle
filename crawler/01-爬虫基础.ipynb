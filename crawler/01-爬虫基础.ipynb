{
 "cells": [
  {
   "cell_type": "code",
   "execution_count": 2,
   "metadata": {},
   "outputs": [
    {
     "name": "stdout",
     "output_type": "stream",
     "text": [
      "<Response [200]>\n",
      "爬取数据结束！！！\n"
     ]
    }
   ],
   "source": [
    "import requests\n",
    "#step_1:指定url\n",
    "url = 'https://www.sogou.com/'\n",
    "#step_2:发起请求\n",
    "#get方法会返回一个响应对象\n",
    "response = requests.get(url=url)\n",
    "#step_3:获取响应数据.text返回的是字符串形式的响应数据\n",
    "print(response)\n",
    "page_text = response.text\n",
    "# print(page_text)\n",
    "#step_4:持久化存储\n",
    "with open('./sogou.html','w',encoding='utf-8') as fp:\n",
    "    fp.write(page_text)\n",
    "print('爬取数据结束！！！')"
   ]
  }
 ],
 "metadata": {
  "kernelspec": {
   "display_name": "Python 3",
   "language": "python",
   "name": "python3"
  },
  "language_info": {
   "codemirror_mode": {
    "name": "ipython",
    "version": 3
   },
   "file_extension": ".py",
   "mimetype": "text/x-python",
   "name": "python",
   "nbconvert_exporter": "python",
   "pygments_lexer": "ipython3",
   "version": "3.9.13"
  }
 },
 "nbformat": 4,
 "nbformat_minor": 2
}
