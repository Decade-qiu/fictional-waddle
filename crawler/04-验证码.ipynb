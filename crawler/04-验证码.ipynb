{
 "cells": [
  {
   "cell_type": "code",
   "execution_count": 34,
   "metadata": {},
   "outputs": [
    {
     "name": "stdout",
     "output_type": "stream",
     "text": [
      "欢迎使用ddddocr，本项目专注带动行业内卷，个人博客:wenanzhe.com\n",
      "训练数据支持来源于:http://146.56.204.113:19199/preview\n",
      "爬虫框架feapder可快速一键接入，快速开启爬虫之旅：https://github.com/Boris-code/feapder\n",
      "谷歌reCaptcha验证码 / hCaptcha验证码 / funCaptcha验证码商业级识别接口：https://yescaptcha.com/i/NSwk7i\n",
      "p_rbxkw rbskw\n",
      "p_w93bx W93Bx\n",
      "rbxkw rbskw\n",
      "w93bx w93bx\n"
     ]
    }
   ],
   "source": [
    "import ddddocr\n",
    "import os\n",
    "\n",
    "ocr = ddddocr.DdddOcr()\n",
    "\n",
    "for img in os.listdir(\"./验证码/\"):\n",
    "    origin = img.split(\".\")[0]\n",
    "    img = \"./验证码/\" + img\n",
    "    with open(img, 'rb') as f:\n",
    "        img_bytes = f.read()\n",
    "    res = ocr.classification(img_bytes)\n",
    "    print(origin, res)"
   ]
  },
  {
   "cell_type": "code",
   "execution_count": 30,
   "metadata": {},
   "outputs": [
    {
     "name": "stdout",
     "output_type": "stream",
     "text": [
      "识别结果： Wo35\n"
     ]
    }
   ],
   "source": [
    "from PIL import Image, ImageEnhance, ImageFilter\n",
    "import pytesseract\n",
    "from collections import defaultdict\n",
    "\n",
    "pytesseract.pytesseract.tesseract_cmd = 'C:/QZJ_APP/tesseract/tesseract.exe'\n",
    "\n",
    "def get_threshold(image):\n",
    "    pixel_dict = defaultdict(int)\n",
    "    rows, cols = image.size\n",
    "    for i in range(rows):\n",
    "        for j in range(cols):\n",
    "            pixel = image.getpixel((i, j))\n",
    "            pixel_dict[pixel] += 1\n",
    "\n",
    "    count_max = max(pixel_dict.values())\n",
    "    pixel_dict_reverse = {v: k for k, v in pixel_dict.items()}\n",
    "    threshold = pixel_dict_reverse[count_max]\n",
    "    return threshold\n",
    "\n",
    "def get_bin_table(threshold):\n",
    "    table = []\n",
    "    for i in range(256):\n",
    "        rate = 0.1\n",
    "        if threshold * (1 - rate) <= i <= threshold * (1 + rate):\n",
    "            table.append(1)\n",
    "        else:\n",
    "            table.append(0)\n",
    "    return table\n",
    "\n",
    "def cut_noise(image):\n",
    "    rows, cols = image.size\n",
    "    change_pos = []\n",
    "    for i in range(1, rows - 1):\n",
    "        for j in range(1, cols - 1):\n",
    "            pixel_set = []\n",
    "            for m in range(i - 1, i + 2):\n",
    "                for n in range(j - 1, j + 2):\n",
    "                    if image.getpixel((m, n)) != 1:\n",
    "                        pixel_set.append(image.getpixel((m, n)))\n",
    "            if len(pixel_set) <= 4:\n",
    "                change_pos.append((i, j))\n",
    "\n",
    "    for pos in change_pos:\n",
    "        image.putpixel(pos, 1)\n",
    "    return image\n",
    "\n",
    "def preprocess_image(image_path):\n",
    "    image = Image.open(image_path)\n",
    "    imgry = image.convert('L')\n",
    "    max_pixel = get_threshold(imgry)\n",
    "    table = get_bin_table(threshold=max_pixel)\n",
    "    out = imgry.point(table, '1')\n",
    "    out = cut_noise(out)\n",
    "    return out\n",
    "\n",
    "image_path = \"./验证码/w93bx.jpg\"\n",
    "preprocessed_image = preprocess_image(image_path)\n",
    "preprocessed_image.save('./验证码/p_w93bx.jpg')\n",
    "\n",
    "custom_config = r'--psm 8'\n",
    "text = pytesseract.image_to_string(preprocessed_image, config=custom_config)\n",
    "#替换非数字和字母\n",
    "text = ''.join(e for e in text if e.isalnum())\n",
    "print(\"识别结果：\", text)"
   ]
  }
 ],
 "metadata": {
  "kernelspec": {
   "display_name": "Python 3",
   "language": "python",
   "name": "python3"
  },
  "language_info": {
   "codemirror_mode": {
    "name": "ipython",
    "version": 3
   },
   "file_extension": ".py",
   "mimetype": "text/x-python",
   "name": "python",
   "nbconvert_exporter": "python",
   "pygments_lexer": "ipython3",
   "version": "3.9.13"
  }
 },
 "nbformat": 4,
 "nbformat_minor": 2
}
