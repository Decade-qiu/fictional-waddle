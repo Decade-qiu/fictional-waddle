{
 "cells": [
  {
   "cell_type": "code",
   "execution_count": 1,
   "metadata": {},
   "outputs": [
    {
     "name": "stdout",
     "output_type": "stream",
     "text": [
      "1\n",
      "3\n",
      "2\n",
      "4\n"
     ]
    }
   ],
   "source": [
    "# greenlet\n",
    "\n",
    "from greenlet import greenlet\n",
    "\n",
    "def func1():\n",
    "    print(1)  #第1步：输出1\n",
    "    gr2.switch() #第3步：切换到func2函数\n",
    "    print(2)  #第6步：输出2\n",
    "    gr2.switch() #第7步：切换到func2函数，从上一次执行的位置继续向后执行\n",
    "def func2():\n",
    "    print(3)  #第4步：输出3\n",
    "    gr1.switch() #第5步：切换到func1函数，从上一次执行的位置继续向后执行\n",
    "    print(4)  #第8步：输出4\n",
    "\n",
    "gr1 = greenlet(func1)\n",
    "gr2 = greenlet(func2)\n",
    "\n",
    "gr1.switch() #第1步：去执行func1函数\n",
    "\n",
    "# 实现了协程的效果，即在一个线程中实现多个任务的切换执行\n",
    "# 即一个函数中如果有耗时IO操作，可以在耗时操作的地方切换到另一个函数中执行，从而提高程序的执行效率"
   ]
  },
  {
   "cell_type": "code",
   "execution_count": 30,
   "metadata": {},
   "outputs": [
    {
     "name": "stdout",
     "output_type": "stream",
     "text": [
      "1\n",
      "3\n",
      "2\n",
      "{<Task finished name='QT' coro=<func1() done, defined at D:\\Temp\\ipykernel_14352\\3905081249.py:3> result='Q'>}\n",
      "{<Task pending name='LT' coro=<func2() running at D:\\Temp\\ipykernel_14352\\3905081249.py:11> wait_for=<Future finished result=None>>}\n",
      "4\n"
     ]
    }
   ],
   "source": [
    "import asyncio\n",
    "\n",
    "async def func1(args):\n",
    "    print(1)\n",
    "    await asyncio.sleep(2)  # 遇到IO耗时操作，自动切换到其他任务\n",
    "    print(2)\n",
    "    return args\n",
    "\n",
    "async def func2(args):\n",
    "    print(3)\n",
    "    await asyncio.sleep(3)  # 遇到IO耗时操作，自动切换到其他任务\n",
    "    print(4)\n",
    "    return args\n",
    "\n",
    "async def main():\n",
    "    tasks_list = [\n",
    "        asyncio.create_task(func1(\"Q\"), name=\"QT\"),\n",
    "        asyncio.create_task(func2(\"L\"), name=\"LT\")\n",
    "    ]\n",
    "    done, pedding = await asyncio.wait(tasks_list, timeout=3)\n",
    "    print(done)\n",
    "    print(pedding)\n",
    "    # print(\"done:\")\n",
    "    # for task in done:\n",
    "    #     print(task.get_name(), task.result())\n",
    "    # print(\"pedding:\")\n",
    "    # for task in pedding:\n",
    "    #     print(task.get_name())\n",
    "\n",
    "# 使用 asyncio.run 来运行主协程\n",
    "# asyncio.run(main())\n",
    "# 由于jupyter notebook的问题\n",
    "# 已经有一个事件循环asyncio.run(main())在运行了\n",
    "# 所以这里不能再次运行asyncio.run(main()) 直接运行main()\n",
    "await main()"
   ]
  }
 ],
 "metadata": {
  "kernelspec": {
   "display_name": "Python 3",
   "language": "python",
   "name": "python3"
  },
  "language_info": {
   "codemirror_mode": {
    "name": "ipython",
    "version": 3
   },
   "file_extension": ".py",
   "mimetype": "text/x-python",
   "name": "python",
   "nbconvert_exporter": "python",
   "pygments_lexer": "ipython3",
   "version": "3.9.13"
  }
 },
 "nbformat": 4,
 "nbformat_minor": 2
}
